{
 "cells": [
  {
   "cell_type": "code",
   "execution_count": 38,
   "id": "e43a40f6",
   "metadata": {},
   "outputs": [],
   "source": [
    "import pandas as pd\n",
    "import numpy as np\n",
    "import matplotlib.pyplot as plt"
   ]
  },
  {
   "cell_type": "code",
   "execution_count": 39,
   "id": "08d4525d",
   "metadata": {},
   "outputs": [],
   "source": [
    "df =pd.read_csv('energy_efficiency_data.csv')"
   ]
  },
  {
   "cell_type": "code",
   "execution_count": 56,
   "id": "9e846989",
   "metadata": {},
   "outputs": [],
   "source": [
    "mu = []\n",
    "std = []"
   ]
  },
  {
   "cell_type": "code",
   "execution_count": 57,
   "id": "804e5901",
   "metadata": {},
   "outputs": [],
   "source": [
    "def build_model(input_shapes, n_classes=None):\n",
    "\n",
    "    # This input will receive all the preprocessed features\n",
    "    # sent to 'main'\n",
    "    input_main = Input(shape=input_shapes[\"main\"], name=\"main\")\n",
    "\n",
    "    x = Dense(64, activation='relu')(input_main)\n",
    "    x = Dense(64, activation='relu')(x)\n",
    "\n",
    "    predictions = Dense(1)(x)\n",
    "\n",
    "    # The 'inputs' parameter of your model must contain the\n",
    "    # full list of inputs used in the architecture\n",
    "    model = Model(inputs=[input_main], outputs=predictions)\n",
    "\n",
    "    return model"
   ]
  },
  {
   "cell_type": "code",
   "execution_count": 80,
   "id": "ec61fbc8",
   "metadata": {},
   "outputs": [],
   "source": [
    "\n",
    "def normalize(data):\n",
    "    for i in range(0,data.shape[1]-1):\n",
    "        data[:,i] = ((data[:,i] - np.mean(data[:,i]))/np.std(data[:, i]))\n",
    "        mu.append(np.mean(data[:,i]))\n",
    "        std.append(np.std(data[:, i]))"
   ]
  },
  {
   "cell_type": "code",
   "execution_count": 81,
   "id": "98f2af66",
   "metadata": {},
   "outputs": [
    {
     "data": {
      "text/html": [
       "<div>\n",
       "<style scoped>\n",
       "    .dataframe tbody tr th:only-of-type {\n",
       "        vertical-align: middle;\n",
       "    }\n",
       "\n",
       "    .dataframe tbody tr th {\n",
       "        vertical-align: top;\n",
       "    }\n",
       "\n",
       "    .dataframe thead th {\n",
       "        text-align: right;\n",
       "    }\n",
       "</style>\n",
       "<table border=\"1\" class=\"dataframe\">\n",
       "  <thead>\n",
       "    <tr style=\"text-align: right;\">\n",
       "      <th></th>\n",
       "      <th># Relative Compactness</th>\n",
       "      <th>Surface Area</th>\n",
       "      <th>Wall Area</th>\n",
       "      <th>Roof Area</th>\n",
       "      <th>Overall Height</th>\n",
       "      <th>Orientation</th>\n",
       "      <th>Glazing Area</th>\n",
       "      <th>Glazing Area Distribution</th>\n",
       "      <th>Heating Load</th>\n",
       "      <th>Cooling Load</th>\n",
       "    </tr>\n",
       "  </thead>\n",
       "  <tbody>\n",
       "    <tr>\n",
       "      <th>0</th>\n",
       "      <td>0.98</td>\n",
       "      <td>514.5</td>\n",
       "      <td>294.0</td>\n",
       "      <td>110.25</td>\n",
       "      <td>7.0</td>\n",
       "      <td>2.0</td>\n",
       "      <td>0.0</td>\n",
       "      <td>0.0</td>\n",
       "      <td>15.55</td>\n",
       "      <td>21.33</td>\n",
       "    </tr>\n",
       "    <tr>\n",
       "      <th>1</th>\n",
       "      <td>0.98</td>\n",
       "      <td>514.5</td>\n",
       "      <td>294.0</td>\n",
       "      <td>110.25</td>\n",
       "      <td>7.0</td>\n",
       "      <td>4.0</td>\n",
       "      <td>0.0</td>\n",
       "      <td>0.0</td>\n",
       "      <td>15.55</td>\n",
       "      <td>21.33</td>\n",
       "    </tr>\n",
       "    <tr>\n",
       "      <th>2</th>\n",
       "      <td>0.98</td>\n",
       "      <td>514.5</td>\n",
       "      <td>294.0</td>\n",
       "      <td>110.25</td>\n",
       "      <td>7.0</td>\n",
       "      <td>5.0</td>\n",
       "      <td>0.0</td>\n",
       "      <td>0.0</td>\n",
       "      <td>15.55</td>\n",
       "      <td>21.33</td>\n",
       "    </tr>\n",
       "    <tr>\n",
       "      <th>3</th>\n",
       "      <td>0.90</td>\n",
       "      <td>563.5</td>\n",
       "      <td>318.5</td>\n",
       "      <td>122.50</td>\n",
       "      <td>7.0</td>\n",
       "      <td>2.0</td>\n",
       "      <td>0.0</td>\n",
       "      <td>0.0</td>\n",
       "      <td>20.84</td>\n",
       "      <td>28.28</td>\n",
       "    </tr>\n",
       "    <tr>\n",
       "      <th>4</th>\n",
       "      <td>0.90</td>\n",
       "      <td>563.5</td>\n",
       "      <td>318.5</td>\n",
       "      <td>122.50</td>\n",
       "      <td>7.0</td>\n",
       "      <td>3.0</td>\n",
       "      <td>0.0</td>\n",
       "      <td>0.0</td>\n",
       "      <td>21.46</td>\n",
       "      <td>25.38</td>\n",
       "    </tr>\n",
       "  </tbody>\n",
       "</table>\n",
       "</div>"
      ],
      "text/plain": [
       "   # Relative Compactness  Surface Area  Wall Area  Roof Area  Overall Height  \\\n",
       "0                    0.98         514.5      294.0     110.25             7.0   \n",
       "1                    0.98         514.5      294.0     110.25             7.0   \n",
       "2                    0.98         514.5      294.0     110.25             7.0   \n",
       "3                    0.90         563.5      318.5     122.50             7.0   \n",
       "4                    0.90         563.5      318.5     122.50             7.0   \n",
       "\n",
       "   Orientation  Glazing Area  Glazing Area Distribution  Heating Load  \\\n",
       "0          2.0           0.0                        0.0         15.55   \n",
       "1          4.0           0.0                        0.0         15.55   \n",
       "2          5.0           0.0                        0.0         15.55   \n",
       "3          2.0           0.0                        0.0         20.84   \n",
       "4          3.0           0.0                        0.0         21.46   \n",
       "\n",
       "   Cooling Load  \n",
       "0         21.33  \n",
       "1         21.33  \n",
       "2         21.33  \n",
       "3         28.28  \n",
       "4         25.38  "
      ]
     },
     "execution_count": 81,
     "metadata": {},
     "output_type": "execute_result"
    }
   ],
   "source": [
    "df.head()"
   ]
  },
  {
   "cell_type": "code",
   "execution_count": 82,
   "id": "01d9b29c",
   "metadata": {},
   "outputs": [
    {
     "data": {
      "text/plain": [
       "<bound method NDFrame.describe of      # Relative Compactness  Surface Area  Wall Area  Roof Area  \\\n",
       "0                      0.98         514.5      294.0     110.25   \n",
       "1                      0.98         514.5      294.0     110.25   \n",
       "2                      0.98         514.5      294.0     110.25   \n",
       "3                      0.90         563.5      318.5     122.50   \n",
       "4                      0.90         563.5      318.5     122.50   \n",
       "..                      ...           ...        ...        ...   \n",
       "763                    0.71         710.5      269.5     220.50   \n",
       "764                    0.69         735.0      294.0     220.50   \n",
       "765                    0.66         759.5      318.5     220.50   \n",
       "766                    0.64         784.0      343.0     220.50   \n",
       "767                    0.62         808.5      367.5     220.50   \n",
       "\n",
       "     Overall Height  Orientation  Glazing Area  Glazing Area Distribution  \\\n",
       "0               7.0          2.0           0.0                        0.0   \n",
       "1               7.0          4.0           0.0                        0.0   \n",
       "2               7.0          5.0           0.0                        0.0   \n",
       "3               7.0          2.0           0.0                        0.0   \n",
       "4               7.0          3.0           0.0                        0.0   \n",
       "..              ...          ...           ...                        ...   \n",
       "763             3.5          2.0           0.4                        5.0   \n",
       "764             3.5          3.0           0.4                        5.0   \n",
       "765             3.5          4.0           0.4                        5.0   \n",
       "766             3.5          3.0           0.4                        5.0   \n",
       "767             3.5          4.0           0.4                        5.0   \n",
       "\n",
       "     Heating Load  Cooling Load  \n",
       "0           15.55         21.33  \n",
       "1           15.55         21.33  \n",
       "2           15.55         21.33  \n",
       "3           20.84         28.28  \n",
       "4           21.46         25.38  \n",
       "..            ...           ...  \n",
       "763         12.43         15.59  \n",
       "764         14.28         15.87  \n",
       "765         14.92         17.55  \n",
       "766         18.19         20.21  \n",
       "767         16.48         16.61  \n",
       "\n",
       "[768 rows x 10 columns]>"
      ]
     },
     "execution_count": 82,
     "metadata": {},
     "output_type": "execute_result"
    }
   ],
   "source": [
    "df.describe"
   ]
  },
  {
   "cell_type": "code",
   "execution_count": 83,
   "id": "7dfee73e",
   "metadata": {},
   "outputs": [],
   "source": [
    "data = np.array(df,dtype=float)"
   ]
  },
  {
   "cell_type": "code",
   "execution_count": 84,
   "id": "52883db1",
   "metadata": {},
   "outputs": [],
   "source": [
    "normalize(data)"
   ]
  },
  {
   "cell_type": "code",
   "execution_count": 85,
   "id": "80588e41",
   "metadata": {},
   "outputs": [],
   "source": [
    "def h(x,theta):\n",
    "    return np.matmul(x, theta)"
   ]
  },
  {
   "cell_type": "code",
   "execution_count": 86,
   "id": "530d9ea4",
   "metadata": {},
   "outputs": [],
   "source": [
    "def cost_function(x, y, theta):\n",
    "    return ((h(x, theta)-y).T@(h(x, theta)-y))/(2*y.shape[0])"
   ]
  },
  {
   "cell_type": "code",
   "execution_count": 87,
   "id": "31b791fd",
   "metadata": {},
   "outputs": [],
   "source": [
    "def gradient_descent(x, y, theta, learning_rate=0.1, num_epochs=10):\n",
    "    m = x.shape[0]\n",
    "    J_all = []\n",
    "    \n",
    "    for _ in range(num_epochs):\n",
    "        h_x = h(x, theta)\n",
    "        cost_ = (1/m)*(x.T@(h_x - y))\n",
    "        theta = theta - (learning_rate)*cost_\n",
    "        J_all.append(cost_function(x, y, theta))\n",
    "\n",
    "    return theta, J_all "
   ]
  },
  {
   "cell_type": "code",
   "execution_count": null,
   "id": "07a71d8e",
   "metadata": {},
   "outputs": [],
   "source": []
  },
  {
   "cell_type": "code",
   "execution_count": 88,
   "id": "f0b9d489",
   "metadata": {},
   "outputs": [],
   "source": [
    "y = data[:, -1]\n",
    "y = np.reshape(y, (768,1))\n"
   ]
  },
  {
   "cell_type": "code",
   "execution_count": 89,
   "id": "e3acb237",
   "metadata": {},
   "outputs": [],
   "source": [
    "x=data[:,:9]\n",
    "x = np.hstack((np.ones((x.shape[0],1)), x))"
   ]
  },
  {
   "cell_type": "code",
   "execution_count": 90,
   "id": "d93947b5",
   "metadata": {},
   "outputs": [
    {
     "name": "stdout",
     "output_type": "stream",
     "text": [
      "Cost:  [[2.85771265]]\n",
      "Parameters:  [[24.46104063]\n",
      " [-0.12442841]\n",
      " [-0.58660167]\n",
      " [ 1.12760775]\n",
      " [-1.11660467]\n",
      " [ 2.34400272]\n",
      " [ 0.14671426]\n",
      " [ 0.77038401]\n",
      " [-0.09268911]\n",
      " [ 4.87000855]]\n"
     ]
    }
   ],
   "source": [
    "theta = np.zeros((x.shape[1], 1))\n",
    "learning_rate = 0.1\n",
    "num_epochs = 50\n",
    "theta, J_all = gradient_descent(x, y, theta, learning_rate, num_epochs)\n",
    "J = cost_function(x, y, theta)\n",
    "print(\"Cooling Load: \", J)\n",
    "print(\"Parameters: \", theta)\n"
   ]
  },
  {
   "cell_type": "code",
   "execution_count": 105,
   "id": "d6412700",
   "metadata": {},
   "outputs": [],
   "source": [
    "def plot_cost(J_all, num_epochs):\n",
    "    plt.xlabel('Epochs')\n",
    "    plt.ylabel('Cooling Load')\n",
    "    plt.plot(num_epochs, J_all, 'm', linewidth = \"5\")\n",
    "    plt.show()"
   ]
  },
  {
   "cell_type": "code",
   "execution_count": 106,
   "id": "2a43c80d",
   "metadata": {},
   "outputs": [],
   "source": [
    "def test(theta, x):\n",
    "    x[0] = (x[0] - mu[0])/std[0]\n",
    "    x[1] = (x[1] - mu[1])/std[1]\n",
    "\n",
    "    y = theta[0] + theta[1]*x[0] + theta[2]*x[1]\n",
    "    n_epochs = []\n",
    "    jplot = []\n",
    "    count = 0\n",
    "    for i in J_all:\n",
    "        jplot.append(i[0][0])\n",
    "        n_epochs.append(count)\n",
    "        count += 1\n",
    "    jplot = np.array(jplot)\n",
    "    n_epochs = np.array(n_epochs)\n",
    "    plot_cost(jplot, n_epochs)"
   ]
  },
  {
   "cell_type": "code",
   "execution_count": 107,
   "id": "e9e97453",
   "metadata": {},
   "outputs": [
    {
     "data": {
      "image/png": "[encoded data removed]",
      "text/plain": [
       "<Figure size 432x288 with 1 Axes>"
      ]
     },
     "metadata": {
      "needs_background": "light"
     },
     "output_type": "display_data"
    },
    {
     "data": {
      "image/png": "[encoded data removed]",
      "text/plain": [
       "<Figure size 432x288 with 1 Axes>"
      ]
     },
     "metadata": {
      "needs_background": "light"
     },
     "output_type": "display_data"
    }
   ],
   "source": [
    "#for testing and plotting cost \n",
    "n_epochs = []\n",
    "jplot = []\n",
    "count = 0\n",
    "for i in J_all:\n",
    "    jplot.append(i[0][0])\n",
    "    n_epochs.append(count)\n",
    "    count += 1\n",
    "jplot = np.array(jplot)\n",
    "n_epochs = np.array(n_epochs)\n",
    "plot_cost(jplot, n_epochs)\n",
    "\n",
    "test(theta, [1800, 3])"
   ]
  },
  {
   "cell_type": "code",
   "execution_count": null,
   "id": "99d56b1c",
   "metadata": {},
   "outputs": [],
   "source": []
  },
  {
   "cell_type": "code",
   "execution_count": null,
   "id": "b6cb8c9a",
   "metadata": {},
   "outputs": [],
   "source": []
  },
  {
   "cell_type": "code",
   "execution_count": null,
   "id": "f51ae536",
   "metadata": {},
   "outputs": [],
   "source": []
  }
 ],
 "metadata": {
  "kernelspec": {
   "display_name": "Python 3 (ipykernel)",
   "language": "python",
   "name": "python3"
  },
  "language_info": {
   "codemirror_mode": {
    "name": "ipython",
    "version": 3
   },
   "file_extension": ".py",
   "mimetype": "text/x-python",
   "name": "python",
   "nbconvert_exporter": "python",
   "pygments_lexer": "ipython3",
   "version": "3.9.12"
  }
 },
 "nbformat": 4,
 "nbformat_minor": 5
}
